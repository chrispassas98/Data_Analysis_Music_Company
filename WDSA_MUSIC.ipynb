{
 "cells": [
  {
   "cell_type": "code",
   "execution_count": 30,
   "id": "e5651902",
   "metadata": {},
   "outputs": [],
   "source": [
    "import pandas as pd\n",
    "import numpy as np\n",
    "import sqlite3\n",
    "import matplotlib.pyplot as plt\n",
    "\n",
    "#we are going to connect our database\n",
    "\n",
    "conn = sqlite3.connect(r'C:\\Users\\Christos\\Desktop\\Data Analysis project\\Data_Analysis_Projects_for_Portofolio\\DATA_ANALYSIS_PROJECT_WSDA MUSIC\\WSDA_Dataset\\WSDA_Music.db')\n",
    "\n",
    "\n",
    "#Now we have to load each table into a separate DataFrame. We know that our database contains 11 tables.\n",
    "\n",
    "df_album = pd.read_sql_query(\"SELECT * FROM Album\", conn)\n",
    "df_artist = pd.read_sql_query(\"SELECT * FROM Artist\", conn)\n",
    "df_customer = pd.read_sql_query(\"SELECT * FROM Customer\", conn)\n",
    "df_employee = pd.read_sql_query(\"SELECT * FROM Employee\", conn)\n",
    "df_invoice = pd.read_sql_query(\"SELECT * FROM Invoice\", conn)\n",
    "df_invoice_line = pd.read_sql_query(\"SELECT * FROM InvoiceLine\", conn)\n",
    "df_media_type = pd.read_sql_query(\"SELECT * FROM MediaType\", conn)\n",
    "df_playlist = pd.read_sql_query(\"SELECT * FROM Playlist\", conn)\n",
    "df_playlist_track = pd.read_sql_query(\"SELECT * FROM PlaylistTrack\", conn)\n",
    "df_track = pd.read_sql_query(\"SELECT * FROM Track\", conn)\n",
    "df_genre = pd.read_sql_query(\"SELECT * FROM Genre\", conn)\n",
    "\n",
    "#Ok no error came up, which is good. Let's see if our dataframes created.\n"
   ]
  },
  {
   "cell_type": "code",
   "execution_count": 7,
   "id": "31a7ff82",
   "metadata": {},
   "outputs": [
    {
     "name": "stdout",
     "output_type": "stream",
     "text": [
      "   AlbumId                    Title  ArtistId\n",
      "0        1  Vector Vixens Volume II         1\n",
      "1        2        World Class Chill         2\n",
      "2        3           Critical Heart         2\n",
      "3        4           Tech Bass Life         1\n",
      "4        5        Action After Life         3\n"
     ]
    }
   ],
   "source": [
    "#Let's see if our dataframe has created!\n",
    "\n",
    "print(df_album.head())\n",
    "\n",
    "\n",
    "#Perfect! Now we can start with our analysis."
   ]
  },
  {
   "cell_type": "code",
   "execution_count": null,
   "id": "1120c727",
   "metadata": {},
   "outputs": [],
   "source": [
    "#As you can see in the description of my project, we have some objectives! Let's make a small recap. \n",
    "\n",
    "#1. Customers Buying Two Tracks for $0.99 Each\n",
    "#2. Most Common Billing Countries\n",
    "#3. Total Revenue Over Time\n",
    "#4. Best Selling Albums\n",
    "#5. Customer Demographics and Buying Patterns\n",
    "#6. Top Selling Artists\n",
    "#7. Most Popular Genres\n",
    "#8. Sales Performance by Employee\n",
    "#9. Employees Responsible for the Highest Individual Sales\n",
    "#10. Average Invoice Totals by City\n",
    "#11. City Performance Against Global Average Sales\n",
    "#12. Playlist Popularity\n",
    "#13. Selling Tracks per Country\n",
    "#14. Invoices Below Average Total\n",
    "#15. Effect of Music Genre on Sales by Country\n",
    "#16. Sales by Year and Genre"
   ]
  },
  {
   "cell_type": "code",
   "execution_count": 9,
   "id": "5542e0c0",
   "metadata": {},
   "outputs": [
    {
     "name": "stdout",
     "output_type": "stream",
     "text": [
      "             InvoiceDate           BillingAddress BillingCity  Total\n",
      "0    2009-01-01 00:00:00  Theodor-Heuss-Straße 34   Stuttgart   1.98\n",
      "6    2009-02-01 00:00:00      Barbarossastraße 19      Berlin   1.98\n",
      "7    2009-02-01 00:00:00           8, Rue Hanovre       Paris   1.98\n",
      "13   2009-03-04 00:00:00          1 Microsoft Way     Redmond   1.98\n",
      "14   2009-03-04 00:00:00          1 Infinite Loop   Cupertino   1.98\n",
      "..                   ...                      ...         ...    ...\n",
      "392  2013-10-03 00:00:00            Rilská 3174/6      Prague   1.98\n",
      "398  2013-11-03 00:00:00   9, Place Louis Barthou    Bordeaux   1.98\n",
      "399  2013-11-03 00:00:00          Porthaninkatu 9    Helsinki   1.98\n",
      "405  2013-12-04 00:00:00         801 W 4th Street        Reno   1.98\n",
      "406  2013-12-04 00:00:00          69 Salem Street      Boston   1.98\n",
      "\n",
      "[111 rows x 4 columns]\n"
     ]
    }
   ],
   "source": [
    "#1. How Many Customers Bought 2 Tracks for 0.99$ Each?\n",
    "\n",
    "customers_2_tracks = df_invoice[df_invoice['Total'] == 1.98][['InvoiceDate', 'BillingAddress', 'BillingCity', 'Total']].sort_values(by='InvoiceDate')\n",
    "print(customers_2_tracks)"
   ]
  },
  {
   "cell_type": "code",
   "execution_count": 10,
   "id": "da14c615",
   "metadata": {},
   "outputs": [
    {
     "name": "stdout",
     "output_type": "stream",
     "text": [
      "    BillingCountry  NumberOfInvoices\n",
      "22             USA                91\n",
      "5           Canada                56\n",
      "4           Brazil                35\n",
      "10          France                35\n",
      "11         Germany                28\n",
      "23  United Kingdom                21\n",
      "7   Czech Republic                14\n",
      "19        Portugal                14\n",
      "13           India                13\n",
      "15           Italy                 7\n",
      "21          Sweden                 7\n",
      "20           Spain                 7\n",
      "18          Poland                 7\n",
      "17          Norway                 7\n",
      "16     Netherlands                 7\n",
      "0        Argentina                 7\n",
      "14         Ireland                 7\n",
      "1        Australia                 7\n",
      "9          Finland                 7\n",
      "8          Denmark                 7\n",
      "6            Chile                 7\n",
      "3          Belgium                 7\n",
      "2          Austria                 7\n",
      "12         Hungary                 7\n"
     ]
    }
   ],
   "source": [
    "#2. Most Common Billing Countries\n",
    "billing_countries = df_invoice.groupby('BillingCountry').size().reset_index(name='NumberOfInvoices').sort_values(by='NumberOfInvoices', ascending=False)\n",
    "print(billing_countries)"
   ]
  },
  {
   "cell_type": "code",
   "execution_count": 13,
   "id": "8df4a8ad",
   "metadata": {},
   "outputs": [
    {
     "name": "stdout",
     "output_type": "stream",
     "text": [
      "      Month    Total\n",
      "0   2009-01    35.64\n",
      "1   2009-02    37.62\n",
      "2   2009-03    37.62\n",
      "3   2009-04    37.62\n",
      "4   2009-05    37.62\n",
      "5   2009-06    37.62\n",
      "6   2009-07    37.62\n",
      "7   2009-08    37.62\n",
      "8   2009-09    37.62\n",
      "9   2009-10    37.62\n",
      "10  2009-11    37.62\n",
      "11  2009-12    37.62\n",
      "12  2010-01    52.62\n",
      "13  2010-02    46.62\n",
      "14  2010-03    44.62\n",
      "15  2010-04    37.62\n",
      "16  2010-05    37.62\n",
      "17  2010-06    37.62\n",
      "18  2010-07    37.62\n",
      "19  2010-08    37.62\n",
      "20  2010-09    36.63\n",
      "21  2010-10    37.62\n",
      "22  2010-11    37.62\n",
      "23  2010-12    37.62\n",
      "24  2011-01    37.62\n",
      "25  2011-02    37.62\n",
      "26  2011-03    37.62\n",
      "27  2011-04    51.62\n",
      "28  2011-05    42.62\n",
      "29  2011-06    50.62\n",
      "30  2011-07    37.62\n",
      "31  2011-08    37.62\n",
      "32  2011-09    37.62\n",
      "33  2011-10    37.62\n",
      "34  2011-11  1024.62\n",
      "35  2011-12    37.62\n",
      "36  2012-01    37.62\n",
      "37  2012-02    37.62\n",
      "38  2012-03    37.62\n",
      "39  2012-04    37.62\n",
      "40  2012-05    37.62\n",
      "41  2012-06    37.62\n",
      "42  2012-07    39.62\n",
      "43  2012-08    47.62\n",
      "44  2012-09    46.71\n",
      "45  2012-10    42.62\n",
      "46  2012-11    37.62\n",
      "47  2012-12    37.62\n",
      "48  2013-01    37.62\n",
      "49  2013-02    27.72\n",
      "50  2013-03    37.62\n",
      "51  2013-04    33.66\n",
      "52  2013-05    37.62\n",
      "53  2013-06    37.62\n",
      "54  2013-07    37.62\n",
      "55  2013-08    37.62\n",
      "56  2013-09    37.62\n",
      "57  2013-10    37.62\n",
      "58  2013-11    49.62\n",
      "59  2013-12    38.62\n"
     ]
    }
   ],
   "source": [
    "#3. Total Revenue Over Time\n",
    "\n",
    "revenue_over_time = df_invoice.groupby('Month')['Total'].sum().reset_index().sort_values(by='Month')\n",
    "print(revenue_over_time)"
   ]
  },
  {
   "cell_type": "code",
   "execution_count": 7,
   "id": "c47bc0c9",
   "metadata": {},
   "outputs": [
    {
     "name": "stdout",
     "output_type": "stream",
     "text": [
      "     AlbumId                   Title            Name_y  Units_Sold\n",
      "71        73                 Evicted    Dehlia Powlett          30\n",
      "21        23    Harness Partnerships           Barstow          30\n",
      "139      141         Salty But Sweet     Andy Siddaley          26\n",
      "165      167          Where When Why   Clair Lightwing          20\n",
      "19        21       Enhanced Friction   Tallulah Gollop          19\n",
      "232      237          Driven Digital        Crookshank          19\n",
      "53        55  Harness Security Mixer    Collin Garvill          19\n",
      "248      253               Mix It Up         Constancy          19\n",
      "218      223                   Honey  Lynelle Edgerley          18\n",
      "35        37                Leverage      Fraze Rettie          18\n"
     ]
    }
   ],
   "source": [
    "#4. Best Selling Albums\n",
    "best_selling_albums = df_merged.groupby(['AlbumId', 'Title', 'Name_y']) \\\n",
    "                               .agg(Units_Sold=('Quantity', 'sum')) \\\n",
    "                               .reset_index() \\\n",
    "                               .sort_values('Units_Sold', ascending=False) \\\n",
    "                               .head(10)\n",
    "print(best_selling_albums)"
   ]
  },
  {
   "cell_type": "code",
   "execution_count": 15,
   "id": "4cc0826b",
   "metadata": {},
   "outputs": [
    {
     "name": "stdout",
     "output_type": "stream",
     "text": [
      "           Country  Number_Of_Customers  Average_Spend\n",
      "22             USA                   13       5.747912\n",
      "5           Canada                    8       5.427857\n",
      "4           Brazil                    5       5.431429\n",
      "10          France                    5       5.574286\n",
      "11         Germany                    4       5.588571\n",
      "23  United Kingdom                    3       5.374286\n",
      "7   Czech Republic                    2       6.445714\n",
      "19        Portugal                    2       5.517143\n",
      "13           India                    2       5.789231\n",
      "15           Italy                    1       5.374286\n",
      "21          Sweden                    1       5.517143\n",
      "20           Spain                    1       5.374286\n",
      "18          Poland                    1       5.374286\n",
      "17          Norway                    1       5.660000\n",
      "16     Netherlands                    1       5.802857\n",
      "0        Argentina                    1       5.374286\n",
      "14         Ireland                    1       6.517143\n",
      "1        Australia                    1       5.374286\n",
      "9          Finland                    1       5.945714\n",
      "8          Denmark                    1       5.374286\n",
      "6            Chile                    1       6.660000\n",
      "3          Belgium                    1       5.374286\n",
      "2          Austria                    1       6.088571\n",
      "12         Hungary                    1       6.517143\n"
     ]
    }
   ],
   "source": [
    "#5. Customer Demographics and Buying Patterns\n",
    "customer_demographics = df_customer.merge(df_invoice, on='CustomerId').groupby('Country').agg(Number_Of_Customers=('CustomerId', pd.Series.nunique), Average_Spend=('Total', 'mean')).reset_index().sort_values(by='Number_Of_Customers', ascending=False)\n",
    "print(customer_demographics)"
   ]
  },
  {
   "cell_type": "code",
   "execution_count": 10,
   "id": "3bee45ed",
   "metadata": {},
   "outputs": [
    {
     "name": "stdout",
     "output_type": "stream",
     "text": [
      "               Name_y  Total_Revenue\n",
      "50   Dionisio Collier            140\n",
      "40         Crookshank            107\n",
      "22     Bryn Crunkhurn             87\n",
      "47         Dasi Tonge             79\n",
      "48     Dehlia Powlett             45\n",
      "7       Amberly Pinck             44\n",
      "140   Rickie Raecroft             41\n",
      "84   Ivette Spridgeon             41\n",
      "31    Clair Lightwing             39\n",
      "34     Collin Garvill             37\n"
     ]
    }
   ],
   "source": [
    "#6.Top Selling Artists\n",
    "df_merged_artist = df_invoice_line.merge(df_track, on='TrackId') \\\n",
    "                                  .merge(df_album, on='AlbumId') \\\n",
    "                                  .merge(df_artist, on='ArtistId')\n",
    "\n",
    "top_selling_artists = df_merged_artist.groupby('Name_y') \\\n",
    "                                      .agg(Total_Revenue=('Quantity', 'sum')) \\\n",
    "                                      .reset_index() \\\n",
    "                                      .sort_values('Total_Revenue', ascending=False) \\\n",
    "                                      .head(10)\n",
    "print(top_selling_artists)"
   ]
  },
  {
   "cell_type": "code",
   "execution_count": 16,
   "id": "1666de84",
   "metadata": {},
   "outputs": [
    {
     "name": "stdout",
     "output_type": "stream",
     "text": [
      "                Name_y  Total_Sales\n",
      "17                Rock          843\n",
      "12               Latin          392\n",
      "13               Metal          252\n",
      "1   Alternative & Punk          226\n",
      "11                Jazz           81\n",
      "2                Blues           58\n",
      "15            R&B/Soul           45\n",
      "4            Classical           43\n",
      "22            TV Shows           43\n",
      "16              Reggae           30\n"
     ]
    }
   ],
   "source": [
    "#7.Most Popular Genres\n",
    "most_popular_genres = df_merged_genre.groupby('Name_y') \\\n",
    "                                      .agg(Total_Sales=('Quantity', 'sum')) \\\n",
    "                                      .reset_index() \\\n",
    "                                      .sort_values(by='Total_Sales', ascending=False) \\\n",
    "                                      .head(10)\n",
    "print(most_popular_genres)"
   ]
  },
  {
   "cell_type": "code",
   "execution_count": 29,
   "id": "b933b5d0",
   "metadata": {},
   "outputs": [
    {
     "name": "stdout",
     "output_type": "stream",
     "text": [
      "   EmployeeId FirstName_y LastName_y  Total_Sales\n",
      "0           3        Jane    Peacock      1833.90\n",
      "1           4    Margaret       Park       775.40\n",
      "2           5       Steve    Johnson       720.16\n"
     ]
    }
   ],
   "source": [
    "#8.Sales Performance by Employee\n",
    "sales_performance_by_employee = df_merged_sales_employee.groupby(['EmployeeId', 'FirstName_y', 'LastName_y']) \\\n",
    "                                                         .agg(Total_Sales=('Total', 'sum')) \\\n",
    "                                                         .reset_index() \\\n",
    "                                                         .sort_values(by='Total_Sales', ascending=False)\n",
    "print(sales_performance_by_employee)"
   ]
  },
  {
   "cell_type": "code",
   "execution_count": 21,
   "id": "17a63850",
   "metadata": {},
   "outputs": [
    {
     "name": "stdout",
     "output_type": "stream",
     "text": [
      "    FirstName_x  LastName_x  EmployeeId FirstName_y LastName_y  SupportRepId  \\\n",
      "412        John      Doeein           3        Jane    Peacock             3   \n",
      "90       Helena        Holý           5       Steve    Johnson             5   \n",
      "222     Richard  Cunningham           4    Margaret       Park             4   \n",
      "290        Hugh    O'Reilly           3        Jane    Peacock             3   \n",
      "371    Ladislav      Kovács           3        Jane    Peacock             3   \n",
      "..          ...         ...         ...         ...        ...           ...   \n",
      "341        Phil      Hughes           3        Jane    Peacock             3   \n",
      "153   Dominique    Lefebvre           4    Margaret       Park             4   \n",
      "154       Frank      Harris           4    Margaret       Park             4   \n",
      "334    Jennifer    Peterson           3        Jane    Peacock             3   \n",
      "206        Kara     Nielsen           4    Margaret       Park             4   \n",
      "\n",
      "     CustomerId    Total  \n",
      "412          60  1000.86  \n",
      "90            6    25.86  \n",
      "222          26    23.86  \n",
      "290          46    21.86  \n",
      "371          45    21.86  \n",
      "..          ...      ...  \n",
      "341          53     0.99  \n",
      "153          40     0.99  \n",
      "154          16     0.99  \n",
      "334          15     0.99  \n",
      "206           9     0.99  \n",
      "\n",
      "[413 rows x 8 columns]\n"
     ]
    }
   ],
   "source": [
    "#9.Sales Performance: Which employees are responsible for the highest individual sales?\n",
    "highest_individual_sales = df_merged_sales_employee[['FirstName_x', 'LastName_x', 'EmployeeId', \n",
    "                                                     'FirstName_y', 'LastName_y', 'SupportRepId', \n",
    "                                                     'CustomerId', 'Total']] \\\n",
    "                                                     .sort_values('Total', ascending=False)\n",
    "print(highest_individual_sales)"
   ]
  },
  {
   "cell_type": "code",
   "execution_count": 22,
   "id": "0863060e",
   "metadata": {},
   "outputs": [
    {
     "name": "stdout",
     "output_type": "stream",
     "text": [
      "            BillingCity  Average_Invoice\n",
      "0             Amsterdam         5.802857\n",
      "1             Bangalore         6.106667\n",
      "2                Berlin         5.374286\n",
      "3              Bordeaux         5.660000\n",
      "4                Boston         5.374286\n",
      "5              Brasília         5.374286\n",
      "6              Brussels         5.374286\n",
      "7              Budapest         6.517143\n",
      "8          Buenos Aires         5.374286\n",
      "9               Chicago         6.231429\n",
      "10           Copenhagen         5.374286\n",
      "11            Cupertino         5.517143\n",
      "12                Delhi         5.517143\n",
      "13                Dijon         5.802857\n",
      "14               Dublin         6.517143\n",
      "15           Edinburgh          5.374286\n",
      "16             Edmonton         5.374286\n",
      "17           Fort Worth         6.802857\n",
      "18            Frankfurt         6.231429\n",
      "19              Halifax         5.374286\n",
      "20             Helsinki         5.945714\n",
      "21               Lisbon         5.660000\n",
      "22               London         5.374286\n",
      "23                 Lyon         5.374286\n",
      "24              Madison         6.088571\n",
      "25               Madrid         5.374286\n",
      "26             Montréal         5.660000\n",
      "27        Mountain View         5.517143\n",
      "28             New York         5.374286\n",
      "29              Orlando         5.660000\n",
      "30                 Oslo         5.660000\n",
      "31               Ottawa         5.374286\n",
      "32                Paris         5.517143\n",
      "33                Porto         5.374286\n",
      "34               Prague         6.445714\n",
      "35              Redmond         5.660000\n",
      "36                 Reno         5.374286\n",
      "37       Rio de Janeiro         5.374286\n",
      "38                 Rome         5.374286\n",
      "39       Salt Lake City         6.231429\n",
      "40             Santiago         6.660000\n",
      "41               Sidney         5.374286\n",
      "42            Stockholm         5.517143\n",
      "43            Stuttgart         5.374286\n",
      "44  São José dos Campos         5.660000\n",
      "45            São Paulo         5.374286\n",
      "46              Toronto         5.374286\n",
      "47               Tucson         5.374286\n",
      "48            Vancouver         5.517143\n",
      "49               Vienne         6.088571\n",
      "50               Warsaw         5.374286\n",
      "51             Winnipeg         5.374286\n",
      "52          Yellowknife         5.374286\n"
     ]
    }
   ],
   "source": [
    "#10. Average Invoice Totals by City\n",
    "average_invoice_totals_by_city = df_invoice[df_invoice['BillingCity'].notnull()] \\\n",
    "                                 .groupby('BillingCity') \\\n",
    "                                 .agg(Average_Invoice=('Total', 'mean')) \\\n",
    "                                 .reset_index() \\\n",
    "                                 .sort_values('BillingCity')\n",
    "print(average_invoice_totals_by_city)"
   ]
  },
  {
   "cell_type": "code",
   "execution_count": 25,
   "id": "83b5d151",
   "metadata": {},
   "outputs": [
    {
     "name": "stdout",
     "output_type": "stream",
     "text": [
      "            BillingCity  City_Average  Global_Average\n",
      "0             Amsterdam      5.802857        8.061646\n",
      "1             Bangalore      6.106667        8.061646\n",
      "2                Berlin      5.374286        8.061646\n",
      "3              Bordeaux      5.660000        8.061646\n",
      "4                Boston      5.374286        8.061646\n",
      "5              Brasília      5.374286        8.061646\n",
      "6              Brussels      5.374286        8.061646\n",
      "7              Budapest      6.517143        8.061646\n",
      "8          Buenos Aires      5.374286        8.061646\n",
      "9               Chicago      6.231429        8.061646\n",
      "10           Copenhagen      5.374286        8.061646\n",
      "11            Cupertino      5.517143        8.061646\n",
      "12                Delhi      5.517143        8.061646\n",
      "13                Dijon      5.802857        8.061646\n",
      "14               Dublin      6.517143        8.061646\n",
      "15           Edinburgh       5.374286        8.061646\n",
      "16             Edmonton      5.374286        8.061646\n",
      "17           Fort Worth      6.802857        8.061646\n",
      "18            Frankfurt      6.231429        8.061646\n",
      "19              Halifax      5.374286        8.061646\n",
      "20             Helsinki      5.945714        8.061646\n",
      "21               Lisbon      5.660000        8.061646\n",
      "22               London      5.374286        8.061646\n",
      "23                 Lyon      5.374286        8.061646\n",
      "24              Madison      6.088571        8.061646\n",
      "25               Madrid      5.374286        8.061646\n",
      "26             Montréal      5.660000        8.061646\n",
      "27        Mountain View      5.517143        8.061646\n",
      "28             New York      5.374286        8.061646\n",
      "29              Orlando      5.660000        8.061646\n",
      "30                 Oslo      5.660000        8.061646\n",
      "31               Ottawa      5.374286        8.061646\n",
      "32                Paris      5.517143        8.061646\n",
      "33                Porto      5.374286        8.061646\n",
      "34               Prague      6.445714        8.061646\n",
      "35              Redmond      5.660000        8.061646\n",
      "36                 Reno      5.374286        8.061646\n",
      "37       Rio de Janeiro      5.374286        8.061646\n",
      "38                 Rome      5.374286        8.061646\n",
      "39       Salt Lake City      6.231429        8.061646\n",
      "40             Santiago      6.660000        8.061646\n",
      "41               Sidney      5.374286        8.061646\n",
      "42            Stockholm      5.517143        8.061646\n",
      "43            Stuttgart      5.374286        8.061646\n",
      "44  São José dos Campos      5.660000        8.061646\n",
      "45            São Paulo      5.374286        8.061646\n",
      "46              Toronto      5.374286        8.061646\n",
      "47               Tucson      5.374286        8.061646\n",
      "48            Vancouver      5.517143        8.061646\n",
      "49               Vienne      6.088571        8.061646\n",
      "50               Warsaw      5.374286        8.061646\n",
      "51             Winnipeg      5.374286        8.061646\n",
      "52          Yellowknife      5.374286        8.061646\n"
     ]
    }
   ],
   "source": [
    "#11.Each Individual City Performing Against the Global Average Sales\n",
    "global_average = df_invoice['Total'].mean()\n",
    "city_performance_against_global = df_invoice[df_invoice['BillingCity'].notnull()] \\\n",
    "                                  .groupby('BillingCity') \\\n",
    "                                  .agg(City_Average=('Total', 'mean')) \\\n",
    "                                  .reset_index()\n",
    "city_performance_against_global['Global_Average'] = global_average\n",
    "print(city_performance_against_global)"
   ]
  },
  {
   "cell_type": "code",
   "execution_count": 27,
   "id": "6482056e",
   "metadata": {},
   "outputs": [
    {
     "name": "stdout",
     "output_type": "stream",
     "text": [
      "                          Name  Track_Count\n",
      "8                        Music         6580\n",
      "0                   90’s Music         1477\n",
      "11                    TV Shows          426\n",
      "2                    Classical           75\n",
      "1              Brazilian Music           39\n",
      "7          Heavy Metal Classic           26\n",
      "3    Classical 101 - Deep Cuts           25\n",
      "4   Classical 101 - Next Steps           25\n",
      "5   Classical 101 - The Basics           25\n",
      "6                       Grunge           15\n",
      "9                 Music Videos            1\n",
      "10                 On-The-Go 1            1\n"
     ]
    }
   ],
   "source": [
    "#12.Playlist Popularity\n",
    "playlist_popularity = df_playlist_track.merge(df_playlist, on='PlaylistId') \\\n",
    "                                        .groupby('Name') \\\n",
    "                                        .agg(Track_Count=('TrackId', 'count')) \\\n",
    "                                        .reset_index() \\\n",
    "                                        .sort_values('Track_Count', ascending=False)\n",
    "print(playlist_popularity)"
   ]
  },
  {
   "cell_type": "code",
   "execution_count": 28,
   "id": "28b3a304",
   "metadata": {},
   "outputs": [
    {
     "name": "stdout",
     "output_type": "stream",
     "text": [
      "           Country  TracksSold  TotalSales\n",
      "22             USA         494     4667.06\n",
      "5           Canada         304     2689.96\n",
      "10          France         190     1722.10\n",
      "4           Brazil         190     1677.10\n",
      "11         Germany         152     1392.48\n",
      "23  United Kingdom         114     1003.86\n",
      "7   Czech Republic          76      879.24\n",
      "19        Portugal          76      687.24\n",
      "13           India          74      667.28\n",
      "12         Hungary          38      446.62\n",
      "14         Ireland          38      446.62\n",
      "6            Chile          38      415.62\n",
      "2          Austria          38      404.62\n",
      "17          Norway          38      362.62\n",
      "16     Netherlands          38      352.62\n",
      "9          Finland          38      350.62\n",
      "21          Sweden          38      340.62\n",
      "0        Argentina          38      334.62\n",
      "1        Australia          38      334.62\n",
      "3          Belgium          38      334.62\n",
      "8          Denmark          38      334.62\n",
      "15           Italy          38      334.62\n",
      "18          Poland          38      334.62\n",
      "20           Spain          38      334.62\n"
     ]
    }
   ],
   "source": [
    "#13.Selling Tracks Per Country\n",
    "selling_tracks_per_country = df_customer.merge(df_invoice, on='CustomerId') \\\n",
    "                                        .merge(df_invoice_line, on='InvoiceId') \\\n",
    "                                        .groupby('Country') \\\n",
    "                                        .agg(TracksSold=('TrackId', 'count'), \n",
    "                                             TotalSales=('Total', 'sum')) \\\n",
    "                                        .reset_index() \\\n",
    "                                        .sort_values(['TracksSold', 'TotalSales'], ascending=[False, False])\n",
    "print(selling_tracks_per_country)"
   ]
  },
  {
   "cell_type": "code",
   "execution_count": null,
   "id": "178d85a7",
   "metadata": {},
   "outputs": [],
   "source": [
    "# We are gonna make some viz for our data using matplotlib. We use matploblib to showcase the capabilites of the libray.\\\n",
    "\n",
    "#NOTE: We are going to use Power BI to Viz our data."
   ]
  },
  {
   "cell_type": "code",
   "execution_count": 31,
   "id": "6a21bf6f",
   "metadata": {},
   "outputs": [
    {
     "data": {
      "image/png": "[encoded data removed]",
      "text/plain": [
       "<Figure size 1000x600 with 1 Axes>"
      ]
     },
     "metadata": {},
     "output_type": "display_data"
    }
   ],
   "source": [
    "#Most Popular Genres\n",
    "\n",
    "plt.figure(figsize=(10, 6))\n",
    "plt.bar(most_popular_genres['Name_y'], most_popular_genres['Total_Sales'], color='skyblue')\n",
    "plt.xlabel('Genre')\n",
    "plt.ylabel('Total Sales')\n",
    "plt.title('Most Popular Genres')\n",
    "plt.xticks(rotation=45, ha='right')\n",
    "plt.tight_layout()  \n",
    "plt.show()"
   ]
  },
  {
   "cell_type": "code",
   "execution_count": 32,
   "id": "76a2a204",
   "metadata": {},
   "outputs": [
    {
     "data": {
      "image/png": "[encoded data removed]",
      "text/plain": [
       "<Figure size 1000x600 with 1 Axes>"
      ]
     },
     "metadata": {},
     "output_type": "display_data"
    }
   ],
   "source": [
    "#Sales Performance by Employee\n",
    "plt.figure(figsize=(10, 6))\n",
    "employee_names = sales_performance_by_employee['FirstName_y'] + \" \" + sales_performance_by_employee['LastName_y']\n",
    "plt.bar(employee_names, sales_performance_by_employee['Total_Sales'], color='lightgreen')\n",
    "plt.xlabel('Employee')\n",
    "plt.ylabel('Total Sales')\n",
    "plt.title('Sales Performance by Employee')\n",
    "plt.xticks(rotation=45, ha='right')\n",
    "plt.tight_layout()\n",
    "plt.show()"
   ]
  },
  {
   "cell_type": "code",
   "execution_count": 33,
   "id": "6621402f",
   "metadata": {},
   "outputs": [
    {
     "data": {
      "image/png": "[encoded data removed]",
      "text/plain": [
       "<Figure size 1000x600 with 1 Axes>"
      ]
     },
     "metadata": {},
     "output_type": "display_data"
    }
   ],
   "source": [
    "#Most Popular Genres\n",
    "\n",
    "plt.figure(figsize=(10, 6))\n",
    "plt.bar(most_popular_genres['Name_y'], most_popular_genres['Total_Sales'], color='skyblue')\n",
    "plt.title('Most Popular Genres by Total Sales')\n",
    "plt.xlabel('Genre')\n",
    "plt.ylabel('Total Sales')\n",
    "plt.xticks(rotation=45, ha='right')\n",
    "plt.tight_layout()\n",
    "plt.show()"
   ]
  },
  {
   "cell_type": "code",
   "execution_count": null,
   "id": "92b67c09",
   "metadata": {},
   "outputs": [],
   "source": []
  }
 ],
 "metadata": {
  "kernelspec": {
   "display_name": "Python 3 (ipykernel)",
   "language": "python",
   "name": "python3"
  },
  "language_info": {
   "codemirror_mode": {
    "name": "ipython",
    "version": 3
   },
   "file_extension": ".py",
   "mimetype": "text/x-python",
   "name": "python",
   "nbconvert_exporter": "python",
   "pygments_lexer": "ipython3",
   "version": "3.11.5"
  }
 },
 "nbformat": 4,
 "nbformat_minor": 5
}
